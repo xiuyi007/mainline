{
 "cells": [
  {
   "cell_type": "code",
   "execution_count": null,
   "id": "initial_id",
   "metadata": {
    "collapsed": true
   },
   "outputs": [],
   "source": [
    "import torch"
   ]
  },
  {
   "cell_type": "code",
   "execution_count": null,
   "id": "826664997ab46dce",
   "metadata": {},
   "outputs": [],
   "source": [
    "a1 = torch.randn(32, 3, 64, 64)\n",
    "a2 = torch.randn(32, 3, 64, 64)\n",
    "torch.cat([a1, a2], 1).shape"
   ]
  },
  {
   "cell_type": "code",
   "execution_count": null,
   "id": "8bd7b0bbc3e9a215",
   "metadata": {},
   "outputs": [],
   "source": [
    "a1.dtype"
   ]
  },
  {
   "cell_type": "code",
   "execution_count": null,
   "id": "963e7b8602bce075",
   "metadata": {},
   "outputs": [],
   "source": [
    "a2.to(a1.dtype)"
   ]
  },
  {
   "cell_type": "code",
   "execution_count": null,
   "id": "84bc24a5caf386b",
   "metadata": {},
   "outputs": [],
   "source": []
  },
  {
   "cell_type": "code",
   "execution_count": 29,
   "id": "3c504eb567796628",
   "metadata": {
    "ExecuteTime": {
     "end_time": "2024-07-11T09:32:25.716222Z",
     "start_time": "2024-07-11T09:32:25.634154Z"
    }
   },
   "outputs": [],
   "source": [
    "len(torch.load(\"yolov8n.pt\")['model'].state_dict())"
   ]
  },
  {
   "cell_type": "code",
   "execution_count": 2,
   "id": "ca59b63881a30fe8",
   "metadata": {
    "ExecuteTime": {
     "end_time": "2024-07-28T12:31:13.376009Z",
     "start_time": "2024-07-28T12:31:13.364638Z"
    }
   },
   "outputs": [],
   "source": [
    "for i in range(12, 25):\n",
    "    "
   ]
  },
  {
   "cell_type": "code",
   "execution_count": 4,
   "id": "5a00573e083cd827",
   "metadata": {
    "ExecuteTime": {
     "end_time": "2024-07-31T03:29:45.828926Z",
     "start_time": "2024-07-31T03:29:45.820460Z"
    }
   },
   "outputs": [],
   "source": [
    "l = [1, 2]\n",
    "new = [1, 4]\n",
    "l += new"
   ]
  },
  {
   "cell_type": "code",
   "execution_count": 1,
   "id": "4cdc14136a310212",
   "metadata": {
    "ExecuteTime": {
     "end_time": "2024-07-31T03:29:46.575982Z",
     "start_time": "2024-07-31T03:29:46.572092Z"
    }
   },
   "outputs": [
    {
     "name": "stdout",
     "output_type": "stream",
     "text": [
      "True\n"
     ]
    }
   ],
   "source": [
    "l = [0, 2]\n",
    "b = 2\n",
    "print(b in l)"
   ]
  },
  {
   "cell_type": "code",
   "execution_count": null,
   "id": "668133699bfb6293",
   "metadata": {},
   "outputs": [],
   "source": [
    "import torch\n",
    "from torch import nn\n",
    " \n",
    "def autopad(k, p=None, d=1):  # kernel, padding, dilation\n",
    "    # Pad to 'same' shape outputs\n",
    "    if d > 1:\n",
    "        k = d * (k - 1) + 1 if isinstance(k, int) else [d * (x - 1) + 1 for x in k]  # actual kernel-size\n",
    "    if p is None:\n",
    "        p = k // 2 if isinstance(k, int) else [x // 2 for x in k]  # auto-pad\n",
    "    return p\n",
    " \n",
    " \n",
    "class Conv(nn.Module):\n",
    "    # Standard convolution with args(ch_in, ch_out, kernel, stride, padding, groups, dilation, activation)\n",
    "    default_act = nn.SiLU()  # default activation\n",
    " \n",
    "    def __init__(self, c1, c2, k=1, s=1, p=None, g=1, d=1, act=True):\n",
    "        super().__init__()\n",
    "        self.conv = nn.Conv2d(c1, c2, k, s, autopad(k, p, d), groups=g, dilation=d, bias=False)\n",
    "        self.bn = nn.BatchNorm2d(c2)\n",
    "        self.act = self.default_act if act is True else act if isinstance(act, nn.Module) else nn.Identity()\n",
    " \n",
    "    def forward(self, x):\n",
    "        return self.act(self.bn(self.conv(x)))\n",
    " \n",
    "    def forward_fuse(self, x):\n",
    "        return self.act(self.conv(x))\n",
    "        \n",
    "class C2f(nn.Module):\n",
    "    # CSP Bottleneck with 2 convolutions\n",
    "    def __init__(self, c1, c2, n=1, shortcut=False, g=1, e=0.5):  # ch_in, ch_out, number, shortcut, groups, expansion\n",
    "        super().__init__()\n",
    "        self.c = int(c2 * e)  # hidden channels\n",
    "        self.cv1 = Conv(c1, 2 * self.c, 1, 1)\n",
    "        self.cv2 = Conv((2 + n) * self.c, c2, 1)  # optional act=FReLU(c2)\n",
    "        self.m = nn.ModuleList(Bottleneck(self.c, self.c, shortcut, g, k=((3, 3), (3, 3)), e=1.0) for _ in range(n))\n",
    " \n",
    "    def forward(self, x):\n",
    "        y = list(self.cv1(x).chunk(2, 1))\n",
    "        y.extend(m(y[-1]) for m in self.m)\n",
    "        return self.cv2(torch.cat(y, 1))\n",
    " \n",
    "    def forward_split(self, x):\n",
    "        y = list(self.cv1(x).split((self.c, self.c), 1))\n",
    "        y.extend(m(y[-1]) for m in self.m)\n",
    "        return self.cv2(torch.cat(y, 1))\n",
    " \n",
    "class Bottleneck(nn.Module):\n",
    "    # Standard bottleneck\n",
    "    def __init__(self, c1, c2, shortcut=True, g=1, k=(3, 3), e=0.5):  # ch_in, ch_out, shortcut, groups, kernels, expand\n",
    "        super().__init__()\n",
    "        c_ = int(c2 * e)  # hidden channels\n",
    "        self.cv1 = Conv(c1, c_, k[0], 1)\n",
    "        self.cv2 = Conv(c_, c2, k[1], 1, g=g)\n",
    "        self.add = shortcut and c1 == c2\n",
    " \n",
    "    def forward(self, x):\n",
    "        return x + self.cv2(self.cv1(x)) if self.add else self.cv2(self.cv1(x))\n",
    " \n",
    " \n"
   ]
  }
 ],
 "metadata": {
  "kernelspec": {
   "display_name": "Python 3",
   "language": "python",
   "name": "python3"
  },
  "language_info": {
   "codemirror_mode": {
    "name": "ipython",
    "version": 3
   },
   "file_extension": ".py",
   "mimetype": "text/x-python",
   "name": "python",
   "nbconvert_exporter": "python",
   "pygments_lexer": "ipython3",
   "version": "3.10.14"
  }
 },
 "nbformat": 4,
 "nbformat_minor": 5
}
