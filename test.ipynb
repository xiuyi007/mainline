{
 "cells": [
  {
   "cell_type": "code",
   "id": "initial_id",
   "metadata": {
    "collapsed": true
   },
   "source": "import torch",
   "execution_count": null,
   "outputs": []
  },
  {
   "metadata": {},
   "cell_type": "code",
   "source": [
    "a1 = torch.randn(32, 3, 64, 64)\n",
    "a2 = torch.randn(32, 3, 64, 64)\n",
    "torch.cat([a1, a2], 1).shape"
   ],
   "id": "826664997ab46dce",
   "execution_count": null,
   "outputs": []
  },
  {
   "metadata": {},
   "cell_type": "code",
   "source": "a1.dtype",
   "id": "8bd7b0bbc3e9a215",
   "execution_count": null,
   "outputs": []
  },
  {
   "metadata": {},
   "cell_type": "code",
   "source": "a2.to(a1.dtype)",
   "id": "963e7b8602bce075",
   "execution_count": null,
   "outputs": []
  },
  {
   "metadata": {},
   "cell_type": "code",
   "source": "",
   "id": "84bc24a5caf386b",
   "execution_count": null,
   "outputs": []
  },
  {
   "metadata": {
    "ExecuteTime": {
     "end_time": "2024-07-11T09:32:25.716222Z",
     "start_time": "2024-07-11T09:32:25.634154Z"
    }
   },
   "cell_type": "code",
   "source": "len(torch.load(\"yolov8n.pt\")['model'].state_dict())",
   "id": "3c504eb567796628",
   "execution_count": 29,
   "outputs": []
  },
  {
   "metadata": {
    "ExecuteTime": {
     "end_time": "2024-07-28T12:31:13.376009Z",
     "start_time": "2024-07-28T12:31:13.364638Z"
    }
   },
   "cell_type": "code",
   "source": [
    "for i in range(12, 25):\n",
    "    "
   ],
   "id": "ca59b63881a30fe8",
   "execution_count": 2,
   "outputs": []
  },
  {
   "metadata": {
    "ExecuteTime": {
     "end_time": "2024-07-31T03:29:45.828926Z",
     "start_time": "2024-07-31T03:29:45.820460Z"
    }
   },
   "cell_type": "code",
   "source": [
    "l = [1, 2]\n",
    "new = [1, 4]\n",
    "l += new"
   ],
   "id": "5a00573e083cd827",
   "execution_count": 4,
   "outputs": []
  },
  {
   "metadata": {
    "ExecuteTime": {
     "end_time": "2024-07-31T03:29:46.575982Z",
     "start_time": "2024-07-31T03:29:46.572092Z"
    }
   },
   "cell_type": "code",
   "source": "l",
   "id": "4cdc14136a310212",
   "execution_count": 5,
   "outputs": []
  },
  {
   "metadata": {},
   "cell_type": "code",
   "execution_count": null,
   "source": "",
   "id": "668133699bfb6293",
   "outputs": []
  }
 ],
 "metadata": {
  "kernelspec": {
   "display_name": "Python 3",
   "language": "python",
   "name": "python3"
  },
  "language_info": {
   "codemirror_mode": {
    "name": "ipython",
    "version": 2
   },
   "file_extension": ".py",
   "mimetype": "text/x-python",
   "name": "python",
   "nbconvert_exporter": "python",
   "pygments_lexer": "ipython2",
   "version": "2.7.6"
  }
 },
 "nbformat": 4,
 "nbformat_minor": 5
}
